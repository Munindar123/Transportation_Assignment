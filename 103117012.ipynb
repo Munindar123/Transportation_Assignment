{
  "nbformat": 4,
  "nbformat_minor": 0,
  "metadata": {
    "colab": {
      "name": "103117012.ipynb",
      "provenance": [],
      "authorship_tag": "ABX9TyOJGnQXwHZtN3M7M1QLHdzT",
      "include_colab_link": true
    },
    "kernelspec": {
      "name": "python3",
      "display_name": "Python 3"
    }
  },
  "cells": [
    {
      "cell_type": "markdown",
      "metadata": {
        "id": "view-in-github",
        "colab_type": "text"
      },
      "source": [
        "<a href=\"https://colab.research.google.com/github/Munindar123/Transportation_Assignment/blob/main/103117012.ipynb\" target=\"_parent\"><img src=\"https://colab.research.google.com/assets/colab-badge.svg\" alt=\"Open In Colab\"/></a>"
      ]
    },
    {
      "cell_type": "markdown",
      "metadata": {
        "id": "VwLt6gnvLxbc"
      },
      "source": [
        "\n",
        "Problem Statment: Fit MLR model and interpret the modeling results\n",
        "\n",
        "Importing pandas and matplotlib"
      ]
    },
    {
      "cell_type": "code",
      "metadata": {
        "id": "gBllXyINLway"
      },
      "source": [
        "import pandas as pd\n",
        "import matplotlib.pyplot as plt\n",
        "import statsmodels.api as sm\n",
        "from sklearn.linear_model import LinearRegression\n",
        "import seaborn as sns"
      ],
      "execution_count": 13,
      "outputs": []
    },
    {
      "cell_type": "markdown",
      "metadata": {
        "id": "TJ8Y1GEnL3Dh"
      },
      "source": [
        "**Displaying top 5 rows of Dataset**"
      ]
    },
    {
      "cell_type": "code",
      "metadata": {
        "id": "3QNP7a50L2r8",
        "outputId": "c744ed75-4827-4a3f-f180-444761c1398f",
        "colab": {
          "base_uri": "https://localhost:8080/",
          "height": 195
        }
      },
      "source": [
        "df = pd.read_csv(\"/content/Tranport_Dataset.csv\")\n",
        "df.head()"
      ],
      "execution_count": 14,
      "outputs": [
        {
          "output_type": "execute_result",
          "data": {
            "text/html": [
              "<div>\n",
              "<style scoped>\n",
              "    .dataframe tbody tr th:only-of-type {\n",
              "        vertical-align: middle;\n",
              "    }\n",
              "\n",
              "    .dataframe tbody tr th {\n",
              "        vertical-align: top;\n",
              "    }\n",
              "\n",
              "    .dataframe thead th {\n",
              "        text-align: right;\n",
              "    }\n",
              "</style>\n",
              "<table border=\"1\" class=\"dataframe\">\n",
              "  <thead>\n",
              "    <tr style=\"text-align: right;\">\n",
              "      <th></th>\n",
              "      <th>No. of trips per household per day*</th>\n",
              "      <th>No. of working members</th>\n",
              "      <th>No. of student members</th>\n",
              "      <th>No. of motorized vehicle owned</th>\n",
              "      <th>Income (in thousands)</th>\n",
              "    </tr>\n",
              "  </thead>\n",
              "  <tbody>\n",
              "    <tr>\n",
              "      <th>0</th>\n",
              "      <td>4</td>\n",
              "      <td>1</td>\n",
              "      <td>3</td>\n",
              "      <td>1</td>\n",
              "      <td>40</td>\n",
              "    </tr>\n",
              "    <tr>\n",
              "      <th>1</th>\n",
              "      <td>4</td>\n",
              "      <td>2</td>\n",
              "      <td>1</td>\n",
              "      <td>4</td>\n",
              "      <td>50</td>\n",
              "    </tr>\n",
              "    <tr>\n",
              "      <th>2</th>\n",
              "      <td>4</td>\n",
              "      <td>1</td>\n",
              "      <td>2</td>\n",
              "      <td>2</td>\n",
              "      <td>70</td>\n",
              "    </tr>\n",
              "    <tr>\n",
              "      <th>3</th>\n",
              "      <td>4</td>\n",
              "      <td>1</td>\n",
              "      <td>2</td>\n",
              "      <td>2</td>\n",
              "      <td>55</td>\n",
              "    </tr>\n",
              "    <tr>\n",
              "      <th>4</th>\n",
              "      <td>2</td>\n",
              "      <td>1</td>\n",
              "      <td>0</td>\n",
              "      <td>3</td>\n",
              "      <td>40</td>\n",
              "    </tr>\n",
              "  </tbody>\n",
              "</table>\n",
              "</div>"
            ],
            "text/plain": [
              "   No. of trips per household per day*  ...  Income (in thousands)\n",
              "0                                    4  ...                     40\n",
              "1                                    4  ...                     50\n",
              "2                                    4  ...                     70\n",
              "3                                    4  ...                     55\n",
              "4                                    2  ...                     40\n",
              "\n",
              "[5 rows x 5 columns]"
            ]
          },
          "metadata": {
            "tags": []
          },
          "execution_count": 14
        }
      ]
    },
    {
      "cell_type": "code",
      "metadata": {
        "id": "xv2InRy4MINo",
        "outputId": "9701ce57-46cb-4668-ef0b-fb01709e1bad",
        "colab": {
          "base_uri": "https://localhost:8080/",
          "height": 195
        }
      },
      "source": [
        "Roll_No = 12\n",
        "df['No. of trips per household per day*'] = df['No. of trips per household per day*'] + Roll_No\n",
        "df.head()"
      ],
      "execution_count": 15,
      "outputs": [
        {
          "output_type": "execute_result",
          "data": {
            "text/html": [
              "<div>\n",
              "<style scoped>\n",
              "    .dataframe tbody tr th:only-of-type {\n",
              "        vertical-align: middle;\n",
              "    }\n",
              "\n",
              "    .dataframe tbody tr th {\n",
              "        vertical-align: top;\n",
              "    }\n",
              "\n",
              "    .dataframe thead th {\n",
              "        text-align: right;\n",
              "    }\n",
              "</style>\n",
              "<table border=\"1\" class=\"dataframe\">\n",
              "  <thead>\n",
              "    <tr style=\"text-align: right;\">\n",
              "      <th></th>\n",
              "      <th>No. of trips per household per day*</th>\n",
              "      <th>No. of working members</th>\n",
              "      <th>No. of student members</th>\n",
              "      <th>No. of motorized vehicle owned</th>\n",
              "      <th>Income (in thousands)</th>\n",
              "    </tr>\n",
              "  </thead>\n",
              "  <tbody>\n",
              "    <tr>\n",
              "      <th>0</th>\n",
              "      <td>16</td>\n",
              "      <td>1</td>\n",
              "      <td>3</td>\n",
              "      <td>1</td>\n",
              "      <td>40</td>\n",
              "    </tr>\n",
              "    <tr>\n",
              "      <th>1</th>\n",
              "      <td>16</td>\n",
              "      <td>2</td>\n",
              "      <td>1</td>\n",
              "      <td>4</td>\n",
              "      <td>50</td>\n",
              "    </tr>\n",
              "    <tr>\n",
              "      <th>2</th>\n",
              "      <td>16</td>\n",
              "      <td>1</td>\n",
              "      <td>2</td>\n",
              "      <td>2</td>\n",
              "      <td>70</td>\n",
              "    </tr>\n",
              "    <tr>\n",
              "      <th>3</th>\n",
              "      <td>16</td>\n",
              "      <td>1</td>\n",
              "      <td>2</td>\n",
              "      <td>2</td>\n",
              "      <td>55</td>\n",
              "    </tr>\n",
              "    <tr>\n",
              "      <th>4</th>\n",
              "      <td>14</td>\n",
              "      <td>1</td>\n",
              "      <td>0</td>\n",
              "      <td>3</td>\n",
              "      <td>40</td>\n",
              "    </tr>\n",
              "  </tbody>\n",
              "</table>\n",
              "</div>"
            ],
            "text/plain": [
              "   No. of trips per household per day*  ...  Income (in thousands)\n",
              "0                                   16  ...                     40\n",
              "1                                   16  ...                     50\n",
              "2                                   16  ...                     70\n",
              "3                                   16  ...                     55\n",
              "4                                   14  ...                     40\n",
              "\n",
              "[5 rows x 5 columns]"
            ]
          },
          "metadata": {
            "tags": []
          },
          "execution_count": 15
        }
      ]
    },
    {
      "cell_type": "markdown",
      "metadata": {
        "id": "iKdaumaoMo_F"
      },
      "source": [
        "Checking correlation between variables\n",
        "\n",
        "Correlation coefficient :- It is used to measure how strong a relationship is between two variables. Pearson’s correlation (also called Pearson’s R) is a correlation coefficient commonly used in linear regression. A correlation coefficient of 1 means that for every positive increase in one variable, there is a positive increase of a fixed proportion in the other. A correlation coefficient of -1 means that for every positive increase in one variable, there is a negative decrease of a fixed proportion in the other. Zero means that for every increase, there isn’t a positive or negative increase. The two just aren’t related.\n",
        "\n"
      ]
    },
    {
      "cell_type": "code",
      "metadata": {
        "id": "vhpYW7jqMMwL",
        "outputId": "02fe4334-7262-4a34-af1f-57dff17209ab",
        "colab": {
          "base_uri": "https://localhost:8080/",
          "height": 452
        }
      },
      "source": [
        "import seaborn as sns\n",
        "sns.heatmap(df.corr(),cmap = \"BuPu\")"
      ],
      "execution_count": 16,
      "outputs": [
        {
          "output_type": "execute_result",
          "data": {
            "text/plain": [
              "<matplotlib.axes._subplots.AxesSubplot at 0x7f1b8bf0c128>"
            ]
          },
          "metadata": {
            "tags": []
          },
          "execution_count": 16
        },
        {
          "output_type": "display_data",
          "data": {
            "image/png": "[encoded data removed]",
            "text/plain": [
              "<Figure size 432x288 with 2 Axes>"
            ]
          },
          "metadata": {
            "tags": [],
            "needs_background": "light"
          }
        }
      ]
    },
    {
      "cell_type": "code",
      "metadata": {
        "id": "Q0W54st1MvGy",
        "outputId": "ae835914-d903-4b15-e992-be3beb05e74f",
        "colab": {
          "base_uri": "https://localhost:8080/",
          "height": 1000
        }
      },
      "source": [
        "lst = ['No. of working members'\t,'No. of student members'\t,'No. of motorized vehicle owned','Income (in thousands)']\n",
        "from itertools import combinations\n",
        "for i in range(2,5):\n",
        "  for comb in combinations(lst,i):\n",
        "    x = df[list(comb)].values\n",
        "    y = df['No. of trips per household per day*']\n",
        "    X = sm.add_constant(x)\n",
        "    mlr = sm.OLS(y,X)\n",
        "    result = mlr.fit()\n",
        "    print('Independent variables: ',comb,)\n",
        "    print('paramters: ',result.params)    \n",
        "    print('R2: ', round(result.rsquared,4))\n",
        "    print('Adj_R-squared',round(result.rsquared_adj,4),end = '\\n\\n')\n",
        "    print(\"~\"*100,end = '\\n\\n')"
      ],
      "execution_count": 17,
      "outputs": [
        {
          "output_type": "stream",
          "text": [
            "Independent variables:  ('No. of working members', 'No. of student members')\n",
            "paramters:  const    13.150114\n",
            "x1        0.937641\n",
            "x2        0.821420\n",
            "dtype: float64\n",
            "R2:  0.7108\n",
            "Adj_R-squared 0.7099\n",
            "\n",
            "~~~~~~~~~~~~~~~~~~~~~~~~~~~~~~~~~~~~~~~~~~~~~~~~~~~~~~~~~~~~~~~~~~~~~~~~~~~~~~~~~~~~~~~~~~~~~~~~~~~~\n",
            "\n",
            "Independent variables:  ('No. of working members', 'No. of motorized vehicle owned')\n",
            "paramters:  const    14.169617\n",
            "x1        0.734063\n",
            "x2        0.162029\n",
            "dtype: float64\n",
            "R2:  0.3049\n",
            "Adj_R-squared 0.3027\n",
            "\n",
            "~~~~~~~~~~~~~~~~~~~~~~~~~~~~~~~~~~~~~~~~~~~~~~~~~~~~~~~~~~~~~~~~~~~~~~~~~~~~~~~~~~~~~~~~~~~~~~~~~~~~\n",
            "\n",
            "Independent variables:  ('No. of working members', 'Income (in thousands)')\n",
            "paramters:  const    14.290841\n",
            "x1        0.732410\n",
            "x2        0.005995\n",
            "dtype: float64\n",
            "R2:  0.2813\n",
            "Adj_R-squared 0.279\n",
            "\n",
            "~~~~~~~~~~~~~~~~~~~~~~~~~~~~~~~~~~~~~~~~~~~~~~~~~~~~~~~~~~~~~~~~~~~~~~~~~~~~~~~~~~~~~~~~~~~~~~~~~~~~\n",
            "\n",
            "Independent variables:  ('No. of student members', 'No. of motorized vehicle owned')\n",
            "paramters:  const    14.759912\n",
            "x1        0.644780\n",
            "x2        0.074759\n",
            "dtype: float64\n",
            "R2:  0.3151\n",
            "Adj_R-squared 0.313\n",
            "\n",
            "~~~~~~~~~~~~~~~~~~~~~~~~~~~~~~~~~~~~~~~~~~~~~~~~~~~~~~~~~~~~~~~~~~~~~~~~~~~~~~~~~~~~~~~~~~~~~~~~~~~~\n",
            "\n",
            "Independent variables:  ('No. of student members', 'Income (in thousands)')\n",
            "paramters:  const    14.777134\n",
            "x1        0.656252\n",
            "x2        0.003532\n",
            "dtype: float64\n",
            "R2:  0.3122\n",
            "Adj_R-squared 0.3101\n",
            "\n",
            "~~~~~~~~~~~~~~~~~~~~~~~~~~~~~~~~~~~~~~~~~~~~~~~~~~~~~~~~~~~~~~~~~~~~~~~~~~~~~~~~~~~~~~~~~~~~~~~~~~~~\n",
            "\n",
            "Independent variables:  ('No. of motorized vehicle owned', 'Income (in thousands)')\n",
            "paramters:  const    15.267705\n",
            "x1        0.153347\n",
            "x2        0.003939\n",
            "dtype: float64\n",
            "R2:  0.0537\n",
            "Adj_R-squared 0.0508\n",
            "\n",
            "~~~~~~~~~~~~~~~~~~~~~~~~~~~~~~~~~~~~~~~~~~~~~~~~~~~~~~~~~~~~~~~~~~~~~~~~~~~~~~~~~~~~~~~~~~~~~~~~~~~~\n",
            "\n",
            "Independent variables:  ('No. of working members', 'No. of student members', 'No. of motorized vehicle owned')\n",
            "paramters:  const    13.133580\n",
            "x1        0.934834\n",
            "x2        0.815543\n",
            "x3        0.015062\n",
            "dtype: float64\n",
            "R2:  0.7111\n",
            "Adj_R-squared 0.7097\n",
            "\n",
            "~~~~~~~~~~~~~~~~~~~~~~~~~~~~~~~~~~~~~~~~~~~~~~~~~~~~~~~~~~~~~~~~~~~~~~~~~~~~~~~~~~~~~~~~~~~~~~~~~~~~\n",
            "\n",
            "Independent variables:  ('No. of working members', 'No. of student members', 'Income (in thousands)')\n",
            "paramters:  const    13.171376\n",
            "x1        0.942381\n",
            "x2        0.827304\n",
            "x3       -0.001171\n",
            "dtype: float64\n",
            "R2:  0.7113\n",
            "Adj_R-squared 0.7099\n",
            "\n",
            "~~~~~~~~~~~~~~~~~~~~~~~~~~~~~~~~~~~~~~~~~~~~~~~~~~~~~~~~~~~~~~~~~~~~~~~~~~~~~~~~~~~~~~~~~~~~~~~~~~~~\n",
            "\n",
            "Independent variables:  ('No. of working members', 'No. of motorized vehicle owned', 'Income (in thousands)')\n",
            "paramters:  const    14.152633\n",
            "x1        0.731104\n",
            "x2        0.150550\n",
            "x3        0.001404\n",
            "dtype: float64\n",
            "R2:  0.3055\n",
            "Adj_R-squared 0.3022\n",
            "\n",
            "~~~~~~~~~~~~~~~~~~~~~~~~~~~~~~~~~~~~~~~~~~~~~~~~~~~~~~~~~~~~~~~~~~~~~~~~~~~~~~~~~~~~~~~~~~~~~~~~~~~~\n",
            "\n",
            "Independent variables:  ('No. of student members', 'No. of motorized vehicle owned', 'Income (in thousands)')\n",
            "paramters:  const    14.734565\n",
            "x1        0.642077\n",
            "x2        0.060401\n",
            "x3        0.001799\n",
            "dtype: float64\n",
            "R2:  0.316\n",
            "Adj_R-squared 0.3128\n",
            "\n",
            "~~~~~~~~~~~~~~~~~~~~~~~~~~~~~~~~~~~~~~~~~~~~~~~~~~~~~~~~~~~~~~~~~~~~~~~~~~~~~~~~~~~~~~~~~~~~~~~~~~~~\n",
            "\n",
            "Independent variables:  ('No. of working members', 'No. of student members', 'No. of motorized vehicle owned', 'Income (in thousands)')\n",
            "paramters:  const    13.153245\n",
            "x1        0.940156\n",
            "x2        0.819600\n",
            "x3        0.031106\n",
            "x4       -0.002052\n",
            "dtype: float64\n",
            "R2:  0.7123\n",
            "Adj_R-squared 0.7105\n",
            "\n",
            "~~~~~~~~~~~~~~~~~~~~~~~~~~~~~~~~~~~~~~~~~~~~~~~~~~~~~~~~~~~~~~~~~~~~~~~~~~~~~~~~~~~~~~~~~~~~~~~~~~~~\n",
            "\n"
          ],
          "name": "stdout"
        }
      ]
    },
    {
      "cell_type": "code",
      "metadata": {
        "id": "b0ZP71oSM1VB",
        "outputId": "b25279b8-5711-4b25-f0d5-7dd1ea88f410",
        "colab": {
          "base_uri": "https://localhost:8080/",
          "height": 487
        }
      },
      "source": [
        "x = df[['No. of working members'\t,'No. of student members'\t,'No. of motorized vehicle owned','Income (in thousands)']]\n",
        "y = df['No. of trips per household per day*']\n",
        "X = sm.add_constant(x)\n",
        "output = sm.OLS(y,X).fit().summary()\n",
        "print(output)"
      ],
      "execution_count": 19,
      "outputs": [
        {
          "output_type": "stream",
          "text": [
            "                                     OLS Regression Results                                    \n",
            "===============================================================================================\n",
            "Dep. Variable:     No. of trips per household per day*   R-squared:                       0.712\n",
            "Model:                                             OLS   Adj. R-squared:                  0.710\n",
            "Method:                                  Least Squares   F-statistic:                     396.7\n",
            "Date:                                 Mon, 05 Oct 2020   Prob (F-statistic):          9.38e-172\n",
            "Time:                                         05:27:37   Log-Likelihood:                -677.08\n",
            "No. Observations:                                  646   AIC:                             1364.\n",
            "Df Residuals:                                      641   BIC:                             1387.\n",
            "Df Model:                                            4                                         \n",
            "Covariance Type:                             nonrobust                                         \n",
            "==================================================================================================\n",
            "                                     coef    std err          t      P>|t|      [0.025      0.975]\n",
            "--------------------------------------------------------------------------------------------------\n",
            "const                             13.1532      0.074    176.772      0.000      13.007      13.299\n",
            "No. of working members             0.9402      0.032     29.710      0.000       0.878       1.002\n",
            "No. of student members             0.8196      0.027     30.103      0.000       0.766       0.873\n",
            "No. of motorized vehicle owned     0.0311      0.021      1.489      0.137      -0.010       0.072\n",
            "Income (in thousands)             -0.0021      0.001     -1.632      0.103      -0.005       0.000\n",
            "==============================================================================\n",
            "Omnibus:                      137.109   Durbin-Watson:                   1.917\n",
            "Prob(Omnibus):                  0.000   Jarque-Bera (JB):              341.941\n",
            "Skew:                           1.088   Prob(JB):                     5.60e-75\n",
            "Kurtosis:                       5.823   Cond. No.                         116.\n",
            "==============================================================================\n",
            "\n",
            "Warnings:\n",
            "[1] Standard Errors assume that the covariance matrix of the errors is correctly specified.\n"
          ],
          "name": "stdout"
        }
      ]
    },
    {
      "cell_type": "code",
      "metadata": {
        "id": "ZmFz2SB_NSyV"
      },
      "source": [
        ""
      ],
      "execution_count": 18,
      "outputs": []
    }
  ]
}