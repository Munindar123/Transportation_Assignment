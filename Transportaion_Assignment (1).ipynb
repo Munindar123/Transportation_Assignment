{
  "nbformat": 4,
  "nbformat_minor": 0,
  "metadata": {
    "colab": {
      "name": "Transportaion_Assignment.ipynb",
      "provenance": []
    },
    "kernelspec": {
      "name": "python3",
      "display_name": "Python 3"
    }
  },
  "cells": [
    {
      "cell_type": "markdown",
      "metadata": {
        "id": "L_tEEIhq-loJ"
      },
      "source": [
        "**Problem Statment:\n",
        "Fit MLR model and interpret the modeling results**\n"
      ]
    },
    {
      "cell_type": "markdown",
      "metadata": {
        "id": "Y8tAZMRGArsa"
      },
      "source": [
        "**Importing pandas and matplotlib**\n"
      ]
    },
    {
      "cell_type": "code",
      "metadata": {
        "id": "20DBwOWltKv6"
      },
      "source": [
        "import pandas as pd\n",
        "import matplotlib.pyplot as plt\n",
        "import statsmodels.api as sm\n",
        "from sklearn.linear_model import LinearRegression\n",
        "import seaborn as sns"
      ],
      "execution_count": 21,
      "outputs": []
    },
    {
      "cell_type": "markdown",
      "metadata": {
        "id": "lEUFCDp9A31R"
      },
      "source": [
        "**Displaying top 5 rows of Dataset**"
      ]
    },
    {
      "cell_type": "code",
      "metadata": {
        "id": "rv5cjMQktuST",
        "outputId": "1751a3da-2664-451f-e34b-41a410378cf3",
        "colab": {
          "base_uri": "https://localhost:8080/",
          "height": 195
        }
      },
      "source": [
        "df = pd.read_csv(\"/content/Tranport_Dataset.csv\")\n",
        "df.head()\n"
      ],
      "execution_count": 22,
      "outputs": [
        {
          "output_type": "execute_result",
          "data": {
            "text/html": [
              "<div>\n",
              "<style scoped>\n",
              "    .dataframe tbody tr th:only-of-type {\n",
              "        vertical-align: middle;\n",
              "    }\n",
              "\n",
              "    .dataframe tbody tr th {\n",
              "        vertical-align: top;\n",
              "    }\n",
              "\n",
              "    .dataframe thead th {\n",
              "        text-align: right;\n",
              "    }\n",
              "</style>\n",
              "<table border=\"1\" class=\"dataframe\">\n",
              "  <thead>\n",
              "    <tr style=\"text-align: right;\">\n",
              "      <th></th>\n",
              "      <th>No. of trips per household per day*</th>\n",
              "      <th>No. of working members</th>\n",
              "      <th>No. of student members</th>\n",
              "      <th>No. of motorized vehicle owned</th>\n",
              "      <th>Income (in thousands)</th>\n",
              "    </tr>\n",
              "  </thead>\n",
              "  <tbody>\n",
              "    <tr>\n",
              "      <th>0</th>\n",
              "      <td>4</td>\n",
              "      <td>1</td>\n",
              "      <td>3</td>\n",
              "      <td>1</td>\n",
              "      <td>40</td>\n",
              "    </tr>\n",
              "    <tr>\n",
              "      <th>1</th>\n",
              "      <td>4</td>\n",
              "      <td>2</td>\n",
              "      <td>1</td>\n",
              "      <td>4</td>\n",
              "      <td>50</td>\n",
              "    </tr>\n",
              "    <tr>\n",
              "      <th>2</th>\n",
              "      <td>4</td>\n",
              "      <td>1</td>\n",
              "      <td>2</td>\n",
              "      <td>2</td>\n",
              "      <td>70</td>\n",
              "    </tr>\n",
              "    <tr>\n",
              "      <th>3</th>\n",
              "      <td>4</td>\n",
              "      <td>1</td>\n",
              "      <td>2</td>\n",
              "      <td>2</td>\n",
              "      <td>55</td>\n",
              "    </tr>\n",
              "    <tr>\n",
              "      <th>4</th>\n",
              "      <td>2</td>\n",
              "      <td>1</td>\n",
              "      <td>0</td>\n",
              "      <td>3</td>\n",
              "      <td>40</td>\n",
              "    </tr>\n",
              "  </tbody>\n",
              "</table>\n",
              "</div>"
            ],
            "text/plain": [
              "   No. of trips per household per day*  ...  Income (in thousands)\n",
              "0                                    4  ...                     40\n",
              "1                                    4  ...                     50\n",
              "2                                    4  ...                     70\n",
              "3                                    4  ...                     55\n",
              "4                                    2  ...                     40\n",
              "\n",
              "[5 rows x 5 columns]"
            ]
          },
          "metadata": {
            "tags": []
          },
          "execution_count": 22
        }
      ]
    },
    {
      "cell_type": "markdown",
      "metadata": {
        "id": "rPQo9uhNBBJ-"
      },
      "source": [
        "**Adding last two digits of roll number into Trips column and displaying top 5 rows of data set**"
      ]
    },
    {
      "cell_type": "code",
      "metadata": {
        "id": "TDXUN3tcvpMU",
        "outputId": "34812a5e-4691-4c19-c152-cf2ab2805ffa",
        "colab": {
          "base_uri": "https://localhost:8080/",
          "height": 195
        }
      },
      "source": [
        "Roll_No = 60\n",
        "df['No. of trips per household per day*'] = df['No. of trips per household per day*'] + Roll_No\n",
        "df.head()"
      ],
      "execution_count": 23,
      "outputs": [
        {
          "output_type": "execute_result",
          "data": {
            "text/html": [
              "<div>\n",
              "<style scoped>\n",
              "    .dataframe tbody tr th:only-of-type {\n",
              "        vertical-align: middle;\n",
              "    }\n",
              "\n",
              "    .dataframe tbody tr th {\n",
              "        vertical-align: top;\n",
              "    }\n",
              "\n",
              "    .dataframe thead th {\n",
              "        text-align: right;\n",
              "    }\n",
              "</style>\n",
              "<table border=\"1\" class=\"dataframe\">\n",
              "  <thead>\n",
              "    <tr style=\"text-align: right;\">\n",
              "      <th></th>\n",
              "      <th>No. of trips per household per day*</th>\n",
              "      <th>No. of working members</th>\n",
              "      <th>No. of student members</th>\n",
              "      <th>No. of motorized vehicle owned</th>\n",
              "      <th>Income (in thousands)</th>\n",
              "    </tr>\n",
              "  </thead>\n",
              "  <tbody>\n",
              "    <tr>\n",
              "      <th>0</th>\n",
              "      <td>64</td>\n",
              "      <td>1</td>\n",
              "      <td>3</td>\n",
              "      <td>1</td>\n",
              "      <td>40</td>\n",
              "    </tr>\n",
              "    <tr>\n",
              "      <th>1</th>\n",
              "      <td>64</td>\n",
              "      <td>2</td>\n",
              "      <td>1</td>\n",
              "      <td>4</td>\n",
              "      <td>50</td>\n",
              "    </tr>\n",
              "    <tr>\n",
              "      <th>2</th>\n",
              "      <td>64</td>\n",
              "      <td>1</td>\n",
              "      <td>2</td>\n",
              "      <td>2</td>\n",
              "      <td>70</td>\n",
              "    </tr>\n",
              "    <tr>\n",
              "      <th>3</th>\n",
              "      <td>64</td>\n",
              "      <td>1</td>\n",
              "      <td>2</td>\n",
              "      <td>2</td>\n",
              "      <td>55</td>\n",
              "    </tr>\n",
              "    <tr>\n",
              "      <th>4</th>\n",
              "      <td>62</td>\n",
              "      <td>1</td>\n",
              "      <td>0</td>\n",
              "      <td>3</td>\n",
              "      <td>40</td>\n",
              "    </tr>\n",
              "  </tbody>\n",
              "</table>\n",
              "</div>"
            ],
            "text/plain": [
              "   No. of trips per household per day*  ...  Income (in thousands)\n",
              "0                                   64  ...                     40\n",
              "1                                   64  ...                     50\n",
              "2                                   64  ...                     70\n",
              "3                                   64  ...                     55\n",
              "4                                   62  ...                     40\n",
              "\n",
              "[5 rows x 5 columns]"
            ]
          },
          "metadata": {
            "tags": []
          },
          "execution_count": 23
        }
      ]
    },
    {
      "cell_type": "markdown",
      "metadata": {
        "id": "vlY39CH4BYpq"
      },
      "source": [
        "**Ploting independent variables VS dependent variable to check trend in dataset**\n",
        "\n",
        "Performing simple linear regression using stats tool to check trend and as a result we see model performs poorly with low value of r-squared and adj r-squared"
      ]
    },
    {
      "cell_type": "code",
      "metadata": {
        "id": "Qqz4DnvHwLr5",
        "outputId": "51c464a0-1c28-4bdf-88ea-a12779c968f7",
        "colab": {
          "base_uri": "https://localhost:8080/",
          "height": 363
        }
      },
      "source": [
        "x1 = df['No. of working members']\n",
        "y = df['No. of trips per household per day*']\n",
        "X = sm.add_constant(x1)\n",
        "slr1 = sm.OLS(y,X)\n",
        "result1 = slr1.fit()\n",
        "intercept = result1.params[0]\n",
        "slope = result1.params[1]\n",
        "print('Independent variable: \"No. of working members\"')\n",
        "print('slope: ',round(slope,4))\n",
        "print('intercept: ',round(intercept,4))\n",
        "print('R2: ', round(result1.rsquared,4))\n",
        "print('Adj_R-squared',round(result1.rsquared_adj,4))\n",
        "plot1 = sns.regplot(x='No. of working members', y='No. of trips per household per day*', data= df , color='b', \n",
        "line_kws = {'label':\"y={0:.4f}x+{1:.4f}\".format(slope,intercept)})\n",
        "plot1.legend()\n",
        "plt.show()\n"
      ],
      "execution_count": 32,
      "outputs": [
        {
          "output_type": "stream",
          "text": [
            "Independent variable: \"No. of working members\"\n",
            "slope:  0.7498\n",
            "intercept:  62.4473\n",
            "R2:  0.2676\n",
            "Adj_R-squared 0.2664\n"
          ],
          "name": "stdout"
        },
        {
          "output_type": "display_data",
          "data": {
            "image/png": "[encoded data removed]",
            "text/plain": [
              "<Figure size 432x288 with 1 Axes>"
            ]
          },
          "metadata": {
            "tags": [],
            "needs_background": "light"
          }
        }
      ]
    },
    {
      "cell_type": "code",
      "metadata": {
        "id": "StowcB1A0a6i",
        "outputId": "6e9fe8fb-b0e9-44c2-83ca-c4e6ace7c7c4",
        "colab": {
          "base_uri": "https://localhost:8080/",
          "height": 363
        }
      },
      "source": [
        "x2 = df['No. of student members']\n",
        "y = df['No. of trips per household per day*']\n",
        "X = sm.add_constant(x2)\n",
        "slr1 = sm.OLS(y,X)\n",
        "result1 = slr1.fit()\n",
        "intercept = result1.params[0]\n",
        "slope = result1.params[1]\n",
        "print('Independent variable: \"No. of student members\"')\n",
        "print('slope: ',round(slope,4))\n",
        "print('intercept: ',round(intercept,4))\n",
        "print('R2: ', round(result1.rsquared,4))\n",
        "print('Adj_R-squared',round(result1.rsquared_adj,4))\n",
        "plot1 = sns.regplot(x= 'No. of student members', y='No. of trips per household per day*', data= df , color='r', \n",
        "line_kws = {'label':\"y={0:.4f}x+{1:.4f}\".format(slope,intercept)})\n",
        "plot1.legend()\n",
        "plt.show()"
      ],
      "execution_count": 37,
      "outputs": [
        {
          "output_type": "stream",
          "text": [
            "Independent variable: \"No. of student members\"\n",
            "slope:  0.6717\n",
            "intercept:  62.8675\n",
            "R2:  0.3076\n",
            "Adj_R-squared 0.3065\n"
          ],
          "name": "stdout"
        },
        {
          "output_type": "display_data",
          "data": {
            "image/png": "[encoded data removed]",
            "text/plain": [
              "<Figure size 432x288 with 1 Axes>"
            ]
          },
          "metadata": {
            "tags": [],
            "needs_background": "light"
          }
        }
      ]
    },
    {
      "cell_type": "code",
      "metadata": {
        "id": "hRI91Agz02y4",
        "outputId": "22311fac-3c0a-4fdb-b515-dab601dc7acc",
        "colab": {
          "base_uri": "https://localhost:8080/",
          "height": 363
        }
      },
      "source": [
        "x3 = df['No. of motorized vehicle owned']\n",
        "y = df['No. of trips per household per day*']\n",
        "X = sm.add_constant(x3)\n",
        "slr1 = sm.OLS(y,X)\n",
        "result1 = slr1.fit()\n",
        "intercept = result1.params[0]\n",
        "slope = result1.params[1]\n",
        "print('Independent variable: \"No. of motorized vehicle owned\"')\n",
        "print('slope: ',round(slope,4))\n",
        "print('intercept: ',round(intercept,4))\n",
        "print('R2: ', round(result1.rsquared,4))\n",
        "print('Adj_R-squared',round(result1.rsquared_adj,4))\n",
        "plot1 = sns.regplot(x = 'No. of motorized vehicle owned', y='No. of trips per household per day*', data= df , color='g', \n",
        "line_kws = {'label':\"y={0:.4f}x+{1:.4f}\".format(slope,intercept)})\n",
        "plot1.legend()\n",
        "plt.show()"
      ],
      "execution_count": 38,
      "outputs": [
        {
          "output_type": "stream",
          "text": [
            "Independent variable: \"No. of motorized vehicle owned\"\n",
            "slope:  0.1858\n",
            "intercept:  63.3284\n",
            "R2:  0.0493\n",
            "Adj_R-squared 0.0478\n"
          ],
          "name": "stdout"
        },
        {
          "output_type": "display_data",
          "data": {
            "image/png": "[encoded data removed]",
            "text/plain": [
              "<Figure size 432x288 with 1 Axes>"
            ]
          },
          "metadata": {
            "tags": [],
            "needs_background": "light"
          }
        }
      ]
    },
    {
      "cell_type": "code",
      "metadata": {
        "id": "0JO3WKoH1CGO",
        "outputId": "67392fb0-8baf-46b9-b29b-aff8a729a387",
        "colab": {
          "base_uri": "https://localhost:8080/",
          "height": 363
        }
      },
      "source": [
        "x4 = df['Income (in thousands)']\n",
        "y = df['No. of trips per household per day*']\n",
        "X = sm.add_constant(x4)\n",
        "slr1 = sm.OLS(y,X)\n",
        "result1 = slr1.fit()\n",
        "intercept = result1.params[0]\n",
        "slope = result1.params[1]\n",
        "print('Independent variable: \"Income (in thousands)\"')\n",
        "print('slope: ',round(slope,4))\n",
        "print('intercept: ',round(intercept,4))\n",
        "print('R2: ', round(result1.rsquared,4))\n",
        "print('Adj_R-squared',round(result1.rsquared_adj,4))\n",
        "plot1 = sns.regplot(x = 'Income (in thousands)', y='No. of trips per household per day*', data= df , color='m', \n",
        "line_kws = {'label':\"y={0:.4f}x+{1:.4f}\".format(slope,intercept)})\n",
        "plot1.legend()\n",
        "plt.show()"
      ],
      "execution_count": 41,
      "outputs": [
        {
          "output_type": "stream",
          "text": [
            "Independent variable: \"Income (in thousands)\"\n",
            "slope:  0.0086\n",
            "intercept:  63.4105\n",
            "R2:  0.0286\n",
            "Adj_R-squared 0.0271\n"
          ],
          "name": "stdout"
        },
        {
          "output_type": "display_data",
          "data": {
            "image/png": "[encoded data removed]",
            "text/plain": [
              "<Figure size 432x288 with 1 Axes>"
            ]
          },
          "metadata": {
            "tags": [],
            "needs_background": "light"
          }
        }
      ]
    },
    {
      "cell_type": "markdown",
      "metadata": {
        "id": "c1KKVNdjnFqO"
      },
      "source": [
        "**Checking correlation between variables**\n",
        "\n",
        "**Correlation coefficient** :- It is used to measure how strong a relationship is between two variables.\n",
        "Pearson’s correlation (also called Pearson’s R) is a correlation coefficient commonly used in linear\n",
        "regression. A correlation coefficient of 1 means that for every positive increase in one variable,\n",
        "there is a positive increase of a fixed proportion in the other. A correlation coefficient of -1 means\n",
        "that for every positive increase in one variable, there is a negative decrease of a fixed proportion in\n",
        "the other. Zero means that for every increase, there isn’t a positive or negative increase. The two\n",
        "just aren’t related.\n",
        "\n",
        "The R is calculated as :- ![image.png](data:image/png;base64,iVBORw0KGgoAAAANSUhEUgAAAP0AAABACAYAAADRYXFXAAAdFklEQVR4Ae2dB3hURdfHFX39FAFBSgSUpoAvIr1EqtIEQhEIIEiRahAQCFVR6SDdV5oUASmhCVKkQ2ihIx0ikF422WRbNsm27N3f9+ym7Sa7yW7YDQnuPs88e+/cmTnn/585t8ycmXkB98/NgJuBfxUDL/yr0LrBuhlwM4BNoxcEgejoaCIiItzBzYG7DRTCNiASidDr9dluczaN3t/fnwYNGphCo0aNcAc3B+42ULjaQK1atQgICECn01kYvk2jP3LkCL169eLhw4cY7xju4ObA3QYKVxto27YtJ0+eRKvV2m/0/fv3RyqVWmRwn7gZcDNQOBjo1KmT2+gLR1W5tXQz4BwG3EbvHB7dpbgZKDQMuI2+0FSVW1E3A85hwG30zuHRXYqbgULDgNvoC01VuRV1M+AcBtxG7xwe3aW4GSg0DLiNvtBU1fOr6Joxo+jv7Y23tdDHl9/vSkjO7kD2XBGiu/IrY4d+YZ0Db2/6+G5GLE1yCma30edAozZBikIrIBhySPQ8XdKrUCqkSGUKknQC6bD1KiUKuWWcM2ErJRLiRGEEPQ4k8J/HhETFECsWIxaLEYWHESWWkajN1MeZsjPLElAnKpBJpcgS1QiGdPSQil9GolrALDozqxOODBolcZEhPP7HyEEw4TGxGRyIReEEhUQiSVBZ6JVXsW6jt8acNoqADRPp1qQL8y/GkphiLdHzFydEnmHd1F40qlGdjvMCiFUagQtEHfmWznXrMWTTY6QqwSXATbKnedO4Rg06zrtAjNLoIpoq26tufb7c+AhJsmtkmwAJcVzdPpsBLd6nevtZnI9OINVJVU/IH+NpX6cGraYdI0Zh6cXmPDIE4q5uZ/bAFrxfvT2zzkWRkOYlqw/5g/Ed6lCj1VSORcjRZt6P8iTebfQWtGmJurAO3+7NqVOtNK+9VpdJ/tEZ5FskfR5PUtQoY48z2bM8ZepP4HCEAq0hmbur+vJRp+85+FiOxlV2p0+T/VF5ytYfz1+mxp0mu/N0DrhStqku9WiSYtjzVW08KnRn1YM4ktKwpsRuYeB7lfFaeA1xouu+M/SaJGL2+PChR0W6rbyPOFMBtgysThWvn7gmUvK0GriN3sx4hYhT/LZ6CwcCbrNnbH3KvlGfSaf/RUZv5MKg4u7SLlQuW5Mh229zbu1YvAfMZs8tEcoUQ8YrvxltpkNBGcbti+c56++PcVJWzuEsf4cq0eqzPLKMspd1pUq5mgzZliq798B02a5+vTfC0BO2thdVyn3I1wfCkGlS9Us4OZlmTUfw+904VDYsTkgMdxB/AtqULPiNGoStxbtqOT78+gChMk0q3wknmdy8KSM230HshM4Nt9Gbt94UFYmJyah1agKme+JR8l9o9IAu0o8hH3jw9vv1afXFYg4/MH7i2DZ4k7mE7GPWV4Pp16c3vXvnFvoxffcTFFY+FUyya7+VKru/UXYMiSn5YfCpDUF98UdaVvSg3U83iFHqQfeAX/u24ov/XSRCmWLzpqcP+ZPZPg7g3/UIubU7iPoSP7Z6G492C7hheqrrePDr57T+4mcCwhPQZb9PmLdgu47dRm+VJi0Xv//3Gj3quyzxqkSp4h/gs/cx8cYOLKs8mUWmJKOQxhMfF0dcriEeeXKK9Q5S9V2WelWmVPFa+PzxiDh7ZJup8bSHBvleRtTyoMagbQRLkgjf+RVtes3lVIgMbU6fNib8Egfw66zjN8jZO+ID3qoxiG3BEpLCd+HTxpu5J4OR5aiA/cjdRm+Vq/wyeh23Vw2k7UcNqFev3lOFRl+u46EkmZzapVWoWSMT77N9Ql8GjP2cRmVLU2vkLoJlaitGLzy9LGuyfT/PkP3BiF0EWZWdNaMTz1Me80vXyng0n87Z27uZ2KEL3x5IvfFZSnEBfpOAFJ780o0qHs357swtdk/8lC7fHuBRvNppfLuN3rIm087yy+gNqIN2MaqxB8VfeYkiRV6mRK0uDB89Dl9f31zDuFGD6dHiPUq/9h9erT+Z0xk9zlZBpUWqUakNVoeeBOk1Vo/0ZtiSw9yPDGTjgPfxqNyDlbfjsoyT67i5vA/dZxxFrNDkJMzua5my/0qVPfC/eFT+jBW3xCTZ+I5Gp0atz/mzI10BtUqNwa7xNhVnpzWlQiUvfIY1o+U3ftyNTcay+0HHzZ/78tmMw8TInYM/XU/jv+rsNDwrVsbLZyjNWn7D9juxJFsqkJncAQ7SM7mNPp0Ji//8Mnpjz40a0Zm5dKr6Bq8UeYEir9di8IYrhIllKBSKnINchkT8hJPzulCjjg/7wuSk9T1ZoMk4ERL4e+c6DgUqUGUZhhQkASzp9zE9ZhzkfkwSKYIe6ZFxNHrrLVr8cIZo0xBaekkG1FH3uRdmvTMqPZW9/4LkIkv7f0KPGQe4lyF7PI3Lp8lOH7uyKFBASLiO37q/CJSpyALHLKVAws2drD/0EHlW0GapMg8NxPkNpmbZUpR8z5sV16JN/RmZ141HRvwPuO8k/JZlgyHejy/fL8ebJd/De8VVohNt9SUYObiB3/q/eChNzoEDSwluo7fkI+0sH43e2IR0CdzfOpwGZYvy8osvU6xaVxZfEJFkV6+NgE52gRndfPALk6Ky+fEtEHN8CQv8biFK0GV5Xdfx4JfPqOFRld7r7hKXNh5uSL7KnDYVKfvuxwz50Y9bJuMSUD7yZ9fGzRwPTEBt29qsMps9UseDFT2o6VEV77V3M3qnDcnXmNP27VTZP/hx05phCxriA1Yya/0VYpXaLJhSJQmxx1n60w5uGd+CbHJjqZXu3hI6VqpGx7lnCFNk5UpA+dif3Sb8Cifgt5RtOtPdZ0mnyrzbcQ7+oYqc9Ra0xF9cxez1l4lJsM5BVgluo8/KiOk8f43eKFKviub07I5UfeMVihR5lTKNR7MzUIbano90QzJX1q7hZKwStY2GLSjOMe+bhfiHW+uQMqBNEBMVGU18onkHkw5lXBSRUTHEyxLRCqmv0kLyZeZ07sXCiyIn+DDkJDs6m+ys1WVQR7D720lsuhOX3YlKUHBu/jgW+YcitdvBQEB61Jc23WdxLEhq1S/BiH9eF28WXnDNcK4gPYpv2+7MOvrELr2NHOz5bjKb7oizc5CVMMC1Rq+SEBUWQnBwsFkIJTw6Ph/cKq2gtTsq/43e+MqoVdzj96H1KVv0JV58uRjVui7mvCgp5zu9CZMBbVJSDt+3ApHbfRiy7IrpNd3GfcFudgTJTr5sMpTfH8eT/LSF2S3VVkIB2eFpDJp7mih52rh2WlIhajujhi7jcpT9T3khIYB53t7M/OsxEhsjB4J0J0M9h7H5UZzz8QsJBMzvjffMQ6mdd3bxKyA78i2D554iIn1s3xZdrjZ6ffAJ1sybQI8m71Hpnfdo+ElHOnt1pl2Lerz/fkPaD5rB7ttS1FacFHLQOR8uPQujN8LSo4o+xcwOVSjxShGKvFqGxqN38lD2lD23Qgjr+/difoDRtdOuVpQjx9qrM/mk8xwu2NVxmGNRTrlokO9n3GffcSRcZtGnEbJhAN7zLxCZ7RXdTKwg5/TmHdyWJaJTBfHHpB58PucvHkuM/vdm6cwOtddm0dZrDucjFWmuumYXHT4UkJ/ezI7bMpQ6FUF7J9Pj8zkcehSP2pYCVmQY5AcY32M6h0OlNt/20rO59kmfokIZf5ppnuUo9npLZpwLJFQUQ4wolBt+4/m4igcVG45hb0iCRWWlK5ff/0LYCVbPnMzXQ/vRvtabvPpKSWp83IMBw8cyZflhgpSap3aBzBWTQYv87iaG1C1L0Zde5OViVem66DyipKzflrmWlJFAEG1jcNvx7A+V5dogMjLZPBAQbx2I58jtBElUVr+jbWZ11QV9BOv7d+bHExHIzRzTt3/ZkQl/hiC19c1j1Ed7nXmdWuDVrz8927TEa8ImLkckoLNpcALibYP4aOQ2HscnOwG/luvzOtPSqx/9e7ahldcENl0OR2E24cku2vSRbBjQhRnHMz0JbeVzrdEbp0xIdzKoWilerzacfSZfbqMqBvTqMNb1rkTJYu8w2C8CRY7dzrbUd3J8iooEmZT4ODEx0ZGmjRyiYmKJi5cgVSTn0BCcrIdeRdSJGbSvXIJXihTh1TKN+HrHQ2R2feBn10V9ajKePZdzS5zohJuWloDvm9P0i4UcDUxAa2s4LbsaLoxRc3Zaa3ov/xux0Ysu7Tel+QCW/x2LWVT6pcx/QcTl3RtYvWodfsf/JiQuMZd61nLxh5Z4frGQww8VaDLFZZbp0JGA6PJuNqxexdrtx/g7REyiowZvkqfm3Lef0Hv5dWIScu5ddbnRa6/NpLlHMYq3WcQ9C+eRZA741OTNom/Q7dcQZKZuZwGVUmFaXlsikZBbkCWo0ds19upQLRSIxAatnDu/DaJumdd4ydijX9WLheeiSXT49VwgdK03jUf6ESJ1xpPZgEYeS2x8Aqo8NU5X0KsnaGUPmo39g2ipOk2AQO/mk9geJMlhRMOYVECnTiYpKQmVVm/Vf8FS4zT8EufhF3RqkpOSSFJpn6I96wla1ZMWY/cQKVFZqpzlzMVGLxC3tR9VSxXl3a8OEGE+pKC9xfxPylO8aF0mnY7BNAysu8vPPetTo/LbVKxYMddQpfsybkuSnfD0ysJKATnVJ0dw/Ie2VCr+n9Qe/Uaj2PFAhtqhp4uWqzM+ptXUI0S6bFrosydMvvNLan++moi49IUmtLT5dAGHI3LxXXj2qjtNA/nOIdTpt5qw2MQcy3Sx0Wu5NL0JHsWK037pg8z50PoYLizx5r+lS1DNexXXxapUjyeDgkcBRzl0YD/79+ceDp5/hFxry3EhR9yF5KKAVn6b9QPrUPq1l3ipTBvmnxM5+LTXcNK3Ee1nnjWNzxcS4A6rqTo4ijpeC4iITUjLq6Fp9184E+WMzjaH1XkmGVSHRlOvywLCRYoc5bvW6AURG/tU5o1X36Buj9H4TpnKpDFD6dHyQ2p+0IyeE3/jQqgMTUaniQG9TotWq0GjyT1odfa8juWIvxBc1BN7aByNK9ai9/LzJmeRDLrs0l7Foa8/pOPcS4hMi2LYlanQJdIcHUeDDjOJjElv8Crq9VpDQHSC3Z5qhQ50FoU1x8bT6NOZhEfLs1yxPHWt0WvOMrVRWV4v0Yhhi1aybsMiBjcuzxvF6jD6j3uESZzbOdakSRMqVapUYINxzzdHf0L0Eaa2q0vbyXu4l80H3J7SNBweU5dP51ywavRNmzYtsHzZqsuoqKhswDWHx1L/09lExmQ+6Rv0XG22Ak62LDRr1qzQYTfnxLhztPlPc2QcDTvOfrZPeiFiHT3feYOiH4zhUHAsiiQ51xe0p0KJEtT+5i+izL/xTdo/XUeesTGEh4cX2GBte2DzSst2rLrPhsGeNO23nLOhcpNHXLY0uUZoOTWpCW1/PEO0FR9247bjBZkza7qlpGTvnVYd8OHDrguJiFWmMaLFs+vP+Ocwll4YsZvzkZUH1YFR1O22kLCMG5/1xuHSJ73m9ETqlSlGqa5reJzWc6wNWU+fd0tRrFJ/Nj+SW7qZujvyMmtJiOfMLC8atvNl551YkmzNssrMYeMohVsLOtBi4iEisnis2chQCKMF4rd+QZ0B64jM6MhLoWPbORwMs3TYKYTg7FRZIH7bQOoNWEe4OL0z03pWFxq9QPDKbrxdoih1J/kTk/49qY/jT58PKV2sDB2W3CDefPkfd0deWi3pCPLzoaVnX5b6h5gWT7DhHGa9VrPEircMoOHQLQQXFGeaLPo9/ameh8u60GriQaJlmVNdBzYdx+9PCoKr8NMjzL0EPYHLu/HxxANEZQxbWs/lQqNXcXRsbcq8Xpae64ORZXhFGVCen04zj+K80XAap0SJZr7l7o4847ix4vJiejVpy7jtt4lJ0j+115fm6mzadV/IlRjlc9qppeb4hGb0W3OPuMTMGUpzOvRl4WURufiqWLeMQher5rhvC/qvvkNsLot3usToE29uZ/b4gbSoWoxXXi7Gex/3w2f+fh4lpLqxGtT3Wdr5HUoUq0DDbkOYsechiY4NPhe6KrFXYX34fia2/YjeC08SJNXY9P/OXp5AzM1rPE7QkHUqgyHhKOPb+eAXktPU2+wlFpoYfSA/f/YZCy5azno7OuFTRvkFIXn2s4JcT6U+kP/17MGCC5Eo0pbOtiXUJUYvaBKRxYuJjgwnPCycKJGYeFmSmXtjimnKZkR4BFExYqSJWgcaty0oBSdel9dNMhJvsfqL5rQbu4W/oxOzGW+OCHUPWDVsCvuiZNk90AwyDo3vxXfHo5C7wt1ZJyPo2nH2bdvI+vUb2eK3l6MBd00TXfLcFZEjWMuLQvQWhvaex/kIy7nnsr988Z5+zK6ZZ5YlOnhmwn8iA//vafgjFLosK+44WK4DyYXorQzvO59z4bmvi+8So3dA1+crqXGTjN8m85lnNxZccnCTDCGWE993orn3Ao49kZj5LthDkYqHm4fSuPUUTkQZ16rPmseAMmAOw2aeIFJhOf00a0rHzgVkNzYyzqsJTToOxnfmTyz+aRYTB3eg3nv1GbUrzOyzzrGS7U8tELl1ND5rbhCdZbVagzKAucNnccJlXnlG/JsY36UJTTsOYsKMBSwy4v+yA/WN+HeG5jzZx36QuaQUiNw2llFrrhOVbYGU7FndRp+dkzzEaIkK2MCkHi2p+24Zijq8SYaah5uG07rtaDZdjzatL2+PEoJWQdS9U2z+sS9NKpWkVMflPIhPsrqAokETxt4ZM9j1jyzLenf2SLKeRpCdZHqbGlRpPZU/74QilitISJAjjb3EnE5dmH8pH76nVX+zcvIiToRILUeCjCobNITvncnMXYFIzTuMrcNxOFaQneL7djWp2noK+26FWOCf27kr8y9G5fqq7bBQaxlUN1k1ZREngiXZObCS3m30VkhxNEqIPMXGNVs4cOEWu8c0cHCTDAHp+Xl0rVmG114tQdkK71CpcmUq2xMqvUPF8uV4s/irvFzkZaqN2EuYzWE5geSQI6xccYhHcpVT5iuoT06k4Vslafb9RSITzNyhhRgOLFyBf4yrp0wncnvrUtafDUZqa8GL5FCOrlrJwX/kNjeqcLS+09OrT06mUYVSNJt+gQiFJf6Di1biL1I4YSpzujRb/0YOlrHhbDAStX2dvs+p0eszZuvJFGl9Capo7vgf4s9DATyRGmcz2SIxD/HGdQOUSah1KgIcXC9fF7yLMc0rUeI/RXjxhRd4Ia/hxf+j5bybOW+7JKiRBp7j0uMkNNn9WxwGrtw9hHdLF6f2+KNEKMzXZzPyn4hGsGO9fIelpmcQEKS3uXA5mDiLJb7Sr6f/C6ilgZy/9JgkZ4BOLxZQ7hlG9bIlqD3uMGFyK/j1rsRvVMTIwR0CcuXATGlXr5xjKSofz4RoAjZNp0/TmlTvPI8j+xczsktrWjarQ7UKFXm/9ypuumR2nnHFnY8c2BlHx4PNY/isbXM8mzbF6Eac5+DZkel/RZGQS0edIUWDRmd9CWxHa0h3dzEd3inJ6+WaMGzFGUKNxudoIU+TXtCisWc6rCEFjUZn5xLY9iuku7uEjpVL8Xq5xgz9xZ8QpTZ/8RtVtZcDM1jP7ZNeHbeXr/5bmhI1PqLHkLnsvhhIWOQ9VvSqRKnyvdgQYqWX24yYvB06avQGtEoJceJYYmOfNsShUOvzdxREJ+Lk7M68V+p1ipWqwAcdfFh29B/kGvteM/PGcQHKpRNxao4X1d8sloq/vQ9LjwQiK+D4n1OjB/2TX+jydkk8Wk7nUKBxOqqAQYhnS7/KvFllANuzrBGfsQHjmTOcyTWc5WZYIrps3wiOGn0BasB5UkVAq4zi2o4f6dOgPMWKFqOkR03a+27nttQ5/QZ5UivfMqXjn0HfBuUp/noa/gnbuCXJaS3+fFPQqqDn1uiTj4yhdplydFp6h9iktG8r3Q1mtyxPqWYzuBJruXSUPmQfM78aRL8+feiTa+jP93uCSMi2fNW/zeiNbcpAijoBScRN9i8cTNOKxSla4m06zL9ATGIuXiJWm2Rhi0zHf4v9i77E8+0SqfjnnUNksUFIwcH1nBq90Q+5I2+/WZfxx41eWqm9dkK8HwOqlabKF9sIzbpHWkoSsvg4xGKxXUGWZL4+fHqF/huNPg27QY8mUcKjvWNp4lGcEp7fc070vLr9pte32X8G/m/wfKsEJTync7aArBZspqXp8Dk1+kQO+PyXMm91Z/WjTNdT7ZUf+cijFC1mXs3VPzkrUfad/1uMXk/4xXM8VKjN5k2kMiQoTzCxkQclPxzH0UgFWvuIK2Sp0vDLVVbwn2RSk/KU/PAbjkTICyT+59PodXdZ2LYCpRpM5JRImbY2uUDM5n5UebMqA/xCXeOOyr/E6IVotgz/ivWBcWSb26HYx8ha5Sjf+X/cjbPuKFTILDy7ukb8I3xY/zDWCv4/8antQfnOP3NHXDDxP59Gr/iDYdVLU6HHWp5krACr5fy3TfAo1YLZ161UVvaqzUOMs4xeQHRjP1u3HOPO/RNsXPQjs371J/RZDAlZY0FzhqmeLRiz675pF5iMJIKUK0s+o0b5uozY9sDkMGO8po++yp9bdnAmSIlGF8v1/X9wwXjs0AKfGVKe/YH2LNOatWTMznvEmU8UM+Jf2pOaFeoyfOt9JKrMAUxd5BX2bd3FuWAjbj2iK3vxO3EfuSr/+z2eS6PX3ZzHJ+VL0WjK2cwlooQoNvSuTMkS1ek4ZhlHQ4x7szmn/QjhJ1kzewqjh/WnwwelTZtk1PykFwNHfsPUn4+YNslwVJT28Rr6NevCqPlbOB2wliHNBrH2oYQkRwtyDkTLUhIDWOzdhOpVa9PK+yumzJzHvJlTGNG9BQ2aevH16jOEyMxmCKYouTy/O91mnyIy9AzLpy7ieIjCLpdRS8EF5CzxIkt6N03DP5LJM9Lxt6ShZ2dGrfInOMsMSUOKjIO+7fDZHEhckkDikSn0nXmccDu2oXI26ufS6A0aOTER4YhkGvQZRpKCUhxJeHgkMfFykp25ZntKMgppvGm8XRQZTlhYOJHRMcSK45DI87YOoPrURDy7zOXMk1iS43cwpNEwfg/ObQ13ZzcPG+UJGhLiRATdDuD4gT3s2L4Nv137OHz2Bv+Ei5AmZZ01aUD14H/0/qQXIyYsZN/NSBRaV3ur2dDdGdFp+IOt4A+0it8oNIWgld60+/YIYRIRx2dPYsXFCBTZZ0c5Q8Mcy3gujT5HxIXiYurmDa18DxAq06C9OZ/2HWcVuN5gg5CCVq0iOTmZ5GQVGp1t5yD1P1sZ1aI2neecIzynveUKRf2kKukIfmMO1fnptO33CwGHFjBt+WlCctgvz5U0uI3elezmuexkjn7TlL4r7xGXlIJ011CaDP2dJ4VyuSsB5d2dLF66gzN+Y/jYay5nHNhFNs8UFsCMhvgdDGvdg76DprI3MA5VNueu/FHabfT5w7NjUvQPWd7lY6YcNm7IqOX67E9o1G8ZZ0OV6DI+Vxwr8lmlFqTH+K7HaDYYX+mVf7OwWysGLzxCoELrlJl+zwpXnuSmPGBZ99aMXH+V6ESzWXl5KizvmdxGn3fuXJhTiyI2BpnK+Lps3DstBlGcAnVKIfwO1icjiZGkukEbdCjFIsTy5Dwu5+1CyvOhaEFyjPnf/8Y147Lczpzl6aDubqN3kDB3cjcDjjEgEHHpIv/E3GHP4kVsvx5FwjN+XXMbvWM16E7tZsBBBvQ83D2fH+b+zK5LIUhUz34GotvoHaxCd3I3A44yoEuSI5UpSLJn7r+jhechvcNGf/DgQVq1asWKFSvYuHGjO7g5cLeBQtYG6taty/Hjx9FqLWdGvGDrBhIWFsbw4cMZN24cvr6+7uDmwN0GClkbGDZsGMHBwQiC5VCQTaM3bsIokUiQSqXu4ObA3QYKaRvIuvml8SFv0+htvQG4490MuBko3Az8P0TBXxvQkwR3AAAAAElFTkSuQmCC)\n",
        "\n",
        "Using heatmap we can find how much variables are correlated to each other."
      ]
    },
    {
      "cell_type": "code",
      "metadata": {
        "id": "kz0esXnintAd",
        "outputId": "250794d6-3864-4605-94b1-28b3f6efc964",
        "colab": {
          "base_uri": "https://localhost:8080/",
          "height": 452
        }
      },
      "source": [
        "import seaborn as sns\n",
        "sns.heatmap(df.corr())"
      ],
      "execution_count": 42,
      "outputs": [
        {
          "output_type": "execute_result",
          "data": {
            "text/plain": [
              "<matplotlib.axes._subplots.AxesSubplot at 0x7f99c9bb7940>"
            ]
          },
          "metadata": {
            "tags": []
          },
          "execution_count": 42
        },
        {
          "output_type": "display_data",
          "data": {
            "image/png": "[encoded data removed]",
            "text/plain": [
              "<Figure size 432x288 with 2 Axes>"
            ]
          },
          "metadata": {
            "tags": [],
            "needs_background": "light"
          }
        }
      ]
    },
    {
      "cell_type": "markdown",
      "metadata": {
        "id": "eyxZn2Ut5CXl"
      },
      "source": [
        "From the graph we can clearly see that No. of working members and No. of student members are showing some correlation with target variable\n"
      ]
    },
    {
      "cell_type": "markdown",
      "metadata": {
        "id": "u4O8iwcNBpKD"
      },
      "source": [
        "**Spliting the dataset into x-set as independent variables and y-set as Dependent Varible**\n",
        "\n",
        "The best model came out to be the last one, with all the 4 independent variables. \n",
        "\n"
      ]
    },
    {
      "cell_type": "code",
      "metadata": {
        "id": "qaM_VMDT1Qjt",
        "outputId": "bcf1f7b0-ffd4-48ba-ea70-4010b54ee05c",
        "colab": {
          "base_uri": "https://localhost:8080/",
          "height": 1000
        }
      },
      "source": [
        "lst = ['No. of working members'\t,'No. of student members'\t,'No. of motorized vehicle owned','Income (in thousands)']\n",
        "from itertools import combinations\n",
        "for i in range(2,5):\n",
        "  for comb in combinations(lst,i):\n",
        "    x = df[list(comb)].values\n",
        "    y = df['No. of trips per household per day*']\n",
        "    X = sm.add_constant(x)\n",
        "    mlr = sm.OLS(y,X)\n",
        "    result = mlr.fit()\n",
        "    print('Independent variables: ',comb,)\n",
        "    print('paramters: ',result.params)    \n",
        "    print('R2: ', round(result.rsquared,4))\n",
        "    print('Adj_R-squared',round(result.rsquared_adj,4),end = '\\n\\n')\n",
        "    print(\"=\"*100,end = '\\n\\n')\n",
        "\n",
        "\n",
        "  \n"
      ],
      "execution_count": 58,
      "outputs": [
        {
          "output_type": "stream",
          "text": [
            "Independent variables:  ('No. of working members', 'No. of student members')\n",
            "paramters:  const    61.150114\n",
            "x1        0.937641\n",
            "x2        0.821420\n",
            "dtype: float64\n",
            "R2:  0.7108\n",
            "Adj_R-squared 0.7099\n",
            "\n",
            "====================================================================================================\n",
            "\n",
            "Independent variables:  ('No. of working members', 'No. of motorized vehicle owned')\n",
            "paramters:  const    62.169617\n",
            "x1        0.734063\n",
            "x2        0.162029\n",
            "dtype: float64\n",
            "R2:  0.3049\n",
            "Adj_R-squared 0.3027\n",
            "\n",
            "====================================================================================================\n",
            "\n",
            "Independent variables:  ('No. of working members', 'Income (in thousands)')\n",
            "paramters:  const    62.290841\n",
            "x1        0.732410\n",
            "x2        0.005995\n",
            "dtype: float64\n",
            "R2:  0.2813\n",
            "Adj_R-squared 0.279\n",
            "\n",
            "====================================================================================================\n",
            "\n",
            "Independent variables:  ('No. of student members', 'No. of motorized vehicle owned')\n",
            "paramters:  const    62.759912\n",
            "x1        0.644780\n",
            "x2        0.074759\n",
            "dtype: float64\n",
            "R2:  0.3151\n",
            "Adj_R-squared 0.313\n",
            "\n",
            "====================================================================================================\n",
            "\n",
            "Independent variables:  ('No. of student members', 'Income (in thousands)')\n",
            "paramters:  const    62.777134\n",
            "x1        0.656252\n",
            "x2        0.003532\n",
            "dtype: float64\n",
            "R2:  0.3122\n",
            "Adj_R-squared 0.3101\n",
            "\n",
            "====================================================================================================\n",
            "\n",
            "Independent variables:  ('No. of motorized vehicle owned', 'Income (in thousands)')\n",
            "paramters:  const    63.267705\n",
            "x1        0.153347\n",
            "x2        0.003939\n",
            "dtype: float64\n",
            "R2:  0.0537\n",
            "Adj_R-squared 0.0508\n",
            "\n",
            "====================================================================================================\n",
            "\n",
            "Independent variables:  ('No. of working members', 'No. of student members', 'No. of motorized vehicle owned')\n",
            "paramters:  const    61.133580\n",
            "x1        0.934834\n",
            "x2        0.815543\n",
            "x3        0.015062\n",
            "dtype: float64\n",
            "R2:  0.7111\n",
            "Adj_R-squared 0.7097\n",
            "\n",
            "====================================================================================================\n",
            "\n",
            "Independent variables:  ('No. of working members', 'No. of student members', 'Income (in thousands)')\n",
            "paramters:  const    61.171376\n",
            "x1        0.942381\n",
            "x2        0.827304\n",
            "x3       -0.001171\n",
            "dtype: float64\n",
            "R2:  0.7113\n",
            "Adj_R-squared 0.7099\n",
            "\n",
            "====================================================================================================\n",
            "\n",
            "Independent variables:  ('No. of working members', 'No. of motorized vehicle owned', 'Income (in thousands)')\n",
            "paramters:  const    62.152633\n",
            "x1        0.731104\n",
            "x2        0.150550\n",
            "x3        0.001404\n",
            "dtype: float64\n",
            "R2:  0.3055\n",
            "Adj_R-squared 0.3022\n",
            "\n",
            "====================================================================================================\n",
            "\n",
            "Independent variables:  ('No. of student members', 'No. of motorized vehicle owned', 'Income (in thousands)')\n",
            "paramters:  const    62.734565\n",
            "x1        0.642077\n",
            "x2        0.060401\n",
            "x3        0.001799\n",
            "dtype: float64\n",
            "R2:  0.316\n",
            "Adj_R-squared 0.3128\n",
            "\n",
            "====================================================================================================\n",
            "\n",
            "Independent variables:  ('No. of working members', 'No. of student members', 'No. of motorized vehicle owned', 'Income (in thousands)')\n",
            "paramters:  const    61.153245\n",
            "x1        0.940156\n",
            "x2        0.819600\n",
            "x3        0.031106\n",
            "x4       -0.002052\n",
            "dtype: float64\n",
            "R2:  0.7123\n",
            "Adj_R-squared 0.7105\n",
            "\n",
            "====================================================================================================\n",
            "\n"
          ],
          "name": "stdout"
        }
      ]
    },
    {
      "cell_type": "markdown",
      "metadata": {
        "id": "rw-f2M7rClF6"
      },
      "source": [
        "**Getting Output Report using statsmodels for Regression**"
      ]
    },
    {
      "cell_type": "code",
      "metadata": {
        "id": "4d0FbEiU52c2",
        "outputId": "56dd97ee-7def-49a2-ad49-27d76aafd7bd",
        "colab": {
          "base_uri": "https://localhost:8080/",
          "height": 487
        }
      },
      "source": [
        "x = df[['No. of working members'\t,'No. of student members'\t,'No. of motorized vehicle owned','Income (in thousands)']]\n",
        "y = df['No. of trips per household per day*']\n",
        "X = sm.add_constant(x)\n",
        "output = sm.OLS(y,X).fit().summary()\n",
        "print(output)"
      ],
      "execution_count": 59,
      "outputs": [
        {
          "output_type": "stream",
          "text": [
            "                                     OLS Regression Results                                    \n",
            "===============================================================================================\n",
            "Dep. Variable:     No. of trips per household per day*   R-squared:                       0.712\n",
            "Model:                                             OLS   Adj. R-squared:                  0.710\n",
            "Method:                                  Least Squares   F-statistic:                     396.7\n",
            "Date:                                 Sun, 04 Oct 2020   Prob (F-statistic):          9.38e-172\n",
            "Time:                                         05:03:16   Log-Likelihood:                -677.08\n",
            "No. Observations:                                  646   AIC:                             1364.\n",
            "Df Residuals:                                      641   BIC:                             1387.\n",
            "Df Model:                                            4                                         \n",
            "Covariance Type:                             nonrobust                                         \n",
            "==================================================================================================\n",
            "                                     coef    std err          t      P>|t|      [0.025      0.975]\n",
            "--------------------------------------------------------------------------------------------------\n",
            "const                             61.1532      0.074    821.866      0.000      61.007      61.299\n",
            "No. of working members             0.9402      0.032     29.710      0.000       0.878       1.002\n",
            "No. of student members             0.8196      0.027     30.103      0.000       0.766       0.873\n",
            "No. of motorized vehicle owned     0.0311      0.021      1.489      0.137      -0.010       0.072\n",
            "Income (in thousands)             -0.0021      0.001     -1.632      0.103      -0.005       0.000\n",
            "==============================================================================\n",
            "Omnibus:                      137.109   Durbin-Watson:                   1.917\n",
            "Prob(Omnibus):                  0.000   Jarque-Bera (JB):              341.941\n",
            "Skew:                           1.088   Prob(JB):                     5.60e-75\n",
            "Kurtosis:                       5.823   Cond. No.                         116.\n",
            "==============================================================================\n",
            "\n",
            "Warnings:\n",
            "[1] Standard Errors assume that the covariance matrix of the errors is correctly specified.\n"
          ],
          "name": "stdout"
        }
      ]
    }
  ]
}