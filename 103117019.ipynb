{
  "nbformat": 4,
  "nbformat_minor": 0,
  "metadata": {
    "colab": {
      "name": "103117020.ipynb",
      "provenance": [],
      "authorship_tag": "ABX9TyNgTo1ltv209LYu4QLstps0",
      "include_colab_link": true
    },
    "kernelspec": {
      "name": "python3",
      "display_name": "Python 3"
    }
  },
  "cells": [
    {
      "cell_type": "markdown",
      "metadata": {
        "id": "view-in-github",
        "colab_type": "text"
      },
      "source": [
        "<a href=\"https://colab.research.google.com/github/Munindar123/Transportation_Assignment/blob/main/103117019.ipynb\" target=\"_parent\"><img src=\"https://colab.research.google.com/assets/colab-badge.svg\" alt=\"Open In Colab\"/></a>"
      ]
    },
    {
      "cell_type": "markdown",
      "metadata": {
        "id": "VwLt6gnvLxbc"
      },
      "source": [
        "\n",
        "Problem Statment: Fit MLR model and interpret the modeling results\n",
        "\n",
        "Importing pandas and matplotlib"
      ]
    },
    {
      "cell_type": "code",
      "metadata": {
        "id": "gBllXyINLway",
        "outputId": "a1707aa4-2bfb-480c-9b97-6d09ab208abf",
        "colab": {
          "base_uri": "https://localhost:8080/",
          "height": 70
        }
      },
      "source": [
        "import pandas as pd\n",
        "import matplotlib.pyplot as plt\n",
        "import statsmodels.api as sm\n",
        "from sklearn.linear_model import LinearRegression\n",
        "import seaborn as sns"
      ],
      "execution_count": 1,
      "outputs": [
        {
          "output_type": "stream",
          "text": [
            "/usr/local/lib/python3.6/dist-packages/statsmodels/tools/_testing.py:19: FutureWarning: pandas.util.testing is deprecated. Use the functions in the public API at pandas.testing instead.\n",
            "  import pandas.util.testing as tm\n"
          ],
          "name": "stderr"
        }
      ]
    },
    {
      "cell_type": "markdown",
      "metadata": {
        "id": "TJ8Y1GEnL3Dh"
      },
      "source": [
        "**Displaying top 5 rows of Dataset**"
      ]
    },
    {
      "cell_type": "code",
      "metadata": {
        "id": "3QNP7a50L2r8",
        "outputId": "b54a8af3-97b9-48bf-fdd7-891fabddb6b8",
        "colab": {
          "base_uri": "https://localhost:8080/",
          "height": 195
        }
      },
      "source": [
        "df = pd.read_csv(\"/content/Tranport_Dataset.csv\")\n",
        "df.head()"
      ],
      "execution_count": 2,
      "outputs": [
        {
          "output_type": "execute_result",
          "data": {
            "text/html": [
              "<div>\n",
              "<style scoped>\n",
              "    .dataframe tbody tr th:only-of-type {\n",
              "        vertical-align: middle;\n",
              "    }\n",
              "\n",
              "    .dataframe tbody tr th {\n",
              "        vertical-align: top;\n",
              "    }\n",
              "\n",
              "    .dataframe thead th {\n",
              "        text-align: right;\n",
              "    }\n",
              "</style>\n",
              "<table border=\"1\" class=\"dataframe\">\n",
              "  <thead>\n",
              "    <tr style=\"text-align: right;\">\n",
              "      <th></th>\n",
              "      <th>No. of trips per household per day*</th>\n",
              "      <th>No. of working members</th>\n",
              "      <th>No. of student members</th>\n",
              "      <th>No. of motorized vehicle owned</th>\n",
              "      <th>Income (in thousands)</th>\n",
              "    </tr>\n",
              "  </thead>\n",
              "  <tbody>\n",
              "    <tr>\n",
              "      <th>0</th>\n",
              "      <td>4</td>\n",
              "      <td>1</td>\n",
              "      <td>3</td>\n",
              "      <td>1</td>\n",
              "      <td>40</td>\n",
              "    </tr>\n",
              "    <tr>\n",
              "      <th>1</th>\n",
              "      <td>4</td>\n",
              "      <td>2</td>\n",
              "      <td>1</td>\n",
              "      <td>4</td>\n",
              "      <td>50</td>\n",
              "    </tr>\n",
              "    <tr>\n",
              "      <th>2</th>\n",
              "      <td>4</td>\n",
              "      <td>1</td>\n",
              "      <td>2</td>\n",
              "      <td>2</td>\n",
              "      <td>70</td>\n",
              "    </tr>\n",
              "    <tr>\n",
              "      <th>3</th>\n",
              "      <td>4</td>\n",
              "      <td>1</td>\n",
              "      <td>2</td>\n",
              "      <td>2</td>\n",
              "      <td>55</td>\n",
              "    </tr>\n",
              "    <tr>\n",
              "      <th>4</th>\n",
              "      <td>2</td>\n",
              "      <td>1</td>\n",
              "      <td>0</td>\n",
              "      <td>3</td>\n",
              "      <td>40</td>\n",
              "    </tr>\n",
              "  </tbody>\n",
              "</table>\n",
              "</div>"
            ],
            "text/plain": [
              "   No. of trips per household per day*  ...  Income (in thousands)\n",
              "0                                    4  ...                     40\n",
              "1                                    4  ...                     50\n",
              "2                                    4  ...                     70\n",
              "3                                    4  ...                     55\n",
              "4                                    2  ...                     40\n",
              "\n",
              "[5 rows x 5 columns]"
            ]
          },
          "metadata": {
            "tags": []
          },
          "execution_count": 2
        }
      ]
    },
    {
      "cell_type": "code",
      "metadata": {
        "id": "xv2InRy4MINo",
        "outputId": "45e51a76-221d-4a49-869b-9e8b2b41efa8",
        "colab": {
          "base_uri": "https://localhost:8080/",
          "height": 195
        }
      },
      "source": [
        "Roll_No = 19\n",
        "df['No. of trips per household per day*'] = df['No. of trips per household per day*'] + Roll_No\n",
        "df.head()"
      ],
      "execution_count": 3,
      "outputs": [
        {
          "output_type": "execute_result",
          "data": {
            "text/html": [
              "<div>\n",
              "<style scoped>\n",
              "    .dataframe tbody tr th:only-of-type {\n",
              "        vertical-align: middle;\n",
              "    }\n",
              "\n",
              "    .dataframe tbody tr th {\n",
              "        vertical-align: top;\n",
              "    }\n",
              "\n",
              "    .dataframe thead th {\n",
              "        text-align: right;\n",
              "    }\n",
              "</style>\n",
              "<table border=\"1\" class=\"dataframe\">\n",
              "  <thead>\n",
              "    <tr style=\"text-align: right;\">\n",
              "      <th></th>\n",
              "      <th>No. of trips per household per day*</th>\n",
              "      <th>No. of working members</th>\n",
              "      <th>No. of student members</th>\n",
              "      <th>No. of motorized vehicle owned</th>\n",
              "      <th>Income (in thousands)</th>\n",
              "    </tr>\n",
              "  </thead>\n",
              "  <tbody>\n",
              "    <tr>\n",
              "      <th>0</th>\n",
              "      <td>23</td>\n",
              "      <td>1</td>\n",
              "      <td>3</td>\n",
              "      <td>1</td>\n",
              "      <td>40</td>\n",
              "    </tr>\n",
              "    <tr>\n",
              "      <th>1</th>\n",
              "      <td>23</td>\n",
              "      <td>2</td>\n",
              "      <td>1</td>\n",
              "      <td>4</td>\n",
              "      <td>50</td>\n",
              "    </tr>\n",
              "    <tr>\n",
              "      <th>2</th>\n",
              "      <td>23</td>\n",
              "      <td>1</td>\n",
              "      <td>2</td>\n",
              "      <td>2</td>\n",
              "      <td>70</td>\n",
              "    </tr>\n",
              "    <tr>\n",
              "      <th>3</th>\n",
              "      <td>23</td>\n",
              "      <td>1</td>\n",
              "      <td>2</td>\n",
              "      <td>2</td>\n",
              "      <td>55</td>\n",
              "    </tr>\n",
              "    <tr>\n",
              "      <th>4</th>\n",
              "      <td>21</td>\n",
              "      <td>1</td>\n",
              "      <td>0</td>\n",
              "      <td>3</td>\n",
              "      <td>40</td>\n",
              "    </tr>\n",
              "  </tbody>\n",
              "</table>\n",
              "</div>"
            ],
            "text/plain": [
              "   No. of trips per household per day*  ...  Income (in thousands)\n",
              "0                                   23  ...                     40\n",
              "1                                   23  ...                     50\n",
              "2                                   23  ...                     70\n",
              "3                                   23  ...                     55\n",
              "4                                   21  ...                     40\n",
              "\n",
              "[5 rows x 5 columns]"
            ]
          },
          "metadata": {
            "tags": []
          },
          "execution_count": 3
        }
      ]
    },
    {
      "cell_type": "code",
      "metadata": {
        "id": "b0ZP71oSM1VB",
        "outputId": "2ef5d87f-589c-4bcc-ab76-62229bce436a",
        "colab": {
          "base_uri": "https://localhost:8080/",
          "height": 487
        }
      },
      "source": [
        "x = df[['No. of working members'\t,'No. of student members'\t,'No. of motorized vehicle owned','Income (in thousands)']]\n",
        "y = df['No. of trips per household per day*']\n",
        "X = sm.add_constant(x)\n",
        "output = sm.OLS(y,X).fit().summary()\n",
        "print(output)"
      ],
      "execution_count": 4,
      "outputs": [
        {
          "output_type": "stream",
          "text": [
            "                                     OLS Regression Results                                    \n",
            "===============================================================================================\n",
            "Dep. Variable:     No. of trips per household per day*   R-squared:                       0.712\n",
            "Model:                                             OLS   Adj. R-squared:                  0.710\n",
            "Method:                                  Least Squares   F-statistic:                     396.7\n",
            "Date:                                 Sun, 11 Oct 2020   Prob (F-statistic):          9.38e-172\n",
            "Time:                                         14:36:25   Log-Likelihood:                -677.08\n",
            "No. Observations:                                  646   AIC:                             1364.\n",
            "Df Residuals:                                      641   BIC:                             1387.\n",
            "Df Model:                                            4                                         \n",
            "Covariance Type:                             nonrobust                                         \n",
            "==================================================================================================\n",
            "                                     coef    std err          t      P>|t|      [0.025      0.975]\n",
            "--------------------------------------------------------------------------------------------------\n",
            "const                             20.1532      0.074    270.849      0.000      20.007      20.299\n",
            "No. of working members             0.9402      0.032     29.710      0.000       0.878       1.002\n",
            "No. of student members             0.8196      0.027     30.103      0.000       0.766       0.873\n",
            "No. of motorized vehicle owned     0.0311      0.021      1.489      0.137      -0.010       0.072\n",
            "Income (in thousands)             -0.0021      0.001     -1.632      0.103      -0.005       0.000\n",
            "==============================================================================\n",
            "Omnibus:                      137.109   Durbin-Watson:                   1.917\n",
            "Prob(Omnibus):                  0.000   Jarque-Bera (JB):              341.941\n",
            "Skew:                           1.088   Prob(JB):                     5.60e-75\n",
            "Kurtosis:                       5.823   Cond. No.                         116.\n",
            "==============================================================================\n",
            "\n",
            "Warnings:\n",
            "[1] Standard Errors assume that the covariance matrix of the errors is correctly specified.\n"
          ],
          "name": "stdout"
        }
      ]
    },
    {
      "cell_type": "code",
      "metadata": {
        "id": "ZmFz2SB_NSyV"
      },
      "source": [
        ""
      ],
      "execution_count": 4,
      "outputs": []
    }
  ]
}